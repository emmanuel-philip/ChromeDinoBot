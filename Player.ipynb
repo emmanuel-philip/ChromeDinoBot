{
 "cells": [
  {
   "cell_type": "code",
   "execution_count": 24,
   "metadata": {
    "collapsed": true,
    "pycharm": {
     "is_executing": false
    }
   },
   "outputs": [],
   "source": [
    "%matplotlib inline\n",
    "\n",
    "import PIL\n",
    "import mss\n",
    "import pyautogui \n",
    "import time  \n",
    "import numpy  as np  \n",
    "import matplotlib\n",
    "from keras import Sequential\n",
    "from keras.layers import Conv2D, Flatten, Dense, MaxPooling2D\n",
    "from keras.models import load_model\n",
    "import os\n",
    "matplotlib.use('TkAgg')\n",
    "\n",
    "import matplotlib.pyplot as plt\n",
    "from IPython.display import clear_output\n",
    "\n",
    "pyautogui.PAUSE = 0.01\n",
    "\n",
    "SHOW_TIME = False\n",
    "SHOW_DATA = False\n",
    "SHOW_PLOT = False"
   ]
  },
  {
   "cell_type": "code",
   "execution_count": 25,
   "outputs": [],
   "source": [
    "def print_time(*time_data):\n",
    "    if SHOW_TIME:\n",
    "        print(time_data)\n",
    "    \n",
    "def print_data(*var_data):\n",
    "    if SHOW_DATA:\n",
    "        print(var_data)\n",
    "    "
   ],
   "metadata": {
    "collapsed": false,
    "pycharm": {
     "name": "#%%\n",
     "is_executing": false
    }
   }
  },
  {
   "cell_type": "code",
   "execution_count": 26,
   "outputs": [],
   "source": [
    "\n",
    "restart_coords = (420, 370)\n",
    "    \n",
    "def restart():\n",
    "    #pyautogui.click(restart_coords)\n",
    "    pyautogui.keyDown('space')\n",
    "    pyautogui.keyUp('space')    \n",
    "\n",
    "\n",
    "def jump(should_jump):\n",
    "    if should_jump:\n",
    "        pyautogui.keyDown('space')\n",
    "        pyautogui.keyUp('space')\n",
    "        \n",
    "\n",
    "def check_val_and_act(val):\n",
    "    if val == 1: \n",
    "        jump(True)\n",
    "        return 1\n",
    "    else:\n",
    "        jump(False)\n",
    "        return 0"
   ],
   "metadata": {
    "collapsed": false,
    "pycharm": {
     "name": "#%%\n",
     "is_executing": false
    }
   }
  },
  {
   "cell_type": "code",
   "execution_count": 27,
   "outputs": [],
   "source": [
    "def display_image(image, title):\n",
    "    if SHOW_PLOT:\n",
    "        plt.figure().suptitle(title, fontsize=20)\n",
    "        plt.imshow(image)\n",
    "        plt.show()\n",
    "    \n",
    "def capture_image():\n",
    "    image = mss.mss().grab({\"top\":350, \"left\":50, \"width\":700, \"height\":200})\n",
    "    #image = mss.mss().grab({\"top\":560, \"left\":50, \"width\":1000, \"height\":250})\n",
    "    return PIL.Image.frombytes(\"RGB\", image.size, image.bgra, \"raw\", \"BGRX\")\n",
    "\n",
    "def convert_to_greyscale_image(color_image):\n",
    "    THRESHOLD_VALUE = 125\n",
    "    image = color_image.convert(\"L\")\n",
    "    orig_image = np.asarray(image)\n",
    "    image = image.resize((300, 300), PIL.Image.ANTIALIAS)\n",
    "    img_data = np.asarray(image)\n",
    "    greyscale_image = (img_data > THRESHOLD_VALUE) * 1.0\n",
    "    return greyscale_image, orig_image\n",
    "    \n",
    "\n",
    "def get_state_image():\n",
    "    \n",
    "    image = capture_image()\n",
    "    \n",
    "    greyscale_image, orig_image = convert_to_greyscale_image(image)\n",
    "    \n",
    "    return np.asarray(greyscale_image), orig_image\n",
    "    \n",
    "grey_image, full_image = get_state_image()\n",
    "display_image(full_image, -1)\n",
    "\n"
   ],
   "metadata": {
    "collapsed": false,
    "pycharm": {
     "name": "#%%\n",
     "is_executing": false
    }
   }
  },
  {
   "cell_type": "code",
   "execution_count": 28,
   "outputs": [],
   "source": [
    "def build_model():\n",
    "    cnn_model = Sequential()\n",
    "    \n",
    "    cnn_model.add(Conv2D(9, (21, 21), strides=(7, 7), padding='valid',input_shape=(300, 300, 1), activation='relu',\n",
    "                     kernel_initializer='random_uniform'))  #20*40*4\n",
    "    cnn_model.add(Conv2D(13, (11, 11), strides=(3, 3), padding='same', activation='relu', kernel_initializer='random_uniform'))\n",
    "    cnn_model.add(Conv2D(25, (5, 5), strides=(1, 1), padding='same', activation='relu', kernel_initializer='random_uniform'))\n",
    "    cnn_model.add(MaxPooling2D(pool_size=(2, 2), strides=None, padding='valid'))\n",
    "    cnn_model.add(Conv2D(39, (3, 3), strides=(1, 1), padding='same', activation='relu', kernel_initializer='random_uniform'))\n",
    "    cnn_model.add(MaxPooling2D(pool_size=(2, 2), strides=None, padding='valid'))\n",
    "    cnn_model.add(Flatten())\n",
    "    cnn_model.add(Dense(512, activation='relu', kernel_initializer='random_uniform'))\n",
    "    cnn_model.add(Dense(32, activation='relu', kernel_initializer='random_uniform'))\n",
    "    cnn_model.add(Dense(2, activation='relu', kernel_initializer='random_uniform'))\n",
    "    cnn_model.compile(loss='mse',optimizer='adam', metrics=['accuracy'])\n",
    "    if not os.path.isfile('my_dino.h5'):     \n",
    "        cnn_model.save('my_dino.h5')\n",
    "    else:\n",
    "        cnn_model = load_model('my_dino.h5')\n",
    "    return cnn_model\n"
   ],
   "metadata": {
    "collapsed": false,
    "pycharm": {
     "name": "#%%\n",
     "is_executing": false
    }
   }
  },
  {
   "cell_type": "code",
   "execution_count": 29,
   "outputs": [],
   "source": [
    "model = build_model()\n",
    "\n",
    "t0 = time.time()\n",
    "input_area, original_image = get_state_image()\n",
    "input_area_conv = input_area[np.newaxis, ..., np.newaxis]\n",
    "output_arr = model.predict(input_area_conv)[0]\n",
    "print_data('Prediction output', output_arr)\n",
    "t1 = time.time()\n",
    "print_time('Prediction time', t1-t0)\n",
    "\n",
    "# model.save('my_dino.h5')\n",
    "    \n",
    "\n"
   ],
   "metadata": {
    "collapsed": false,
    "pycharm": {
     "name": "#%%\n",
     "is_executing": false
    }
   }
  },
  {
   "cell_type": "code",
   "execution_count": 30,
   "outputs": [],
   "source": [
    "def calc_rewards(action_data):\n",
    "    immediate_reward = [0.1] * len(action_data)\n",
    "    print_data('immediate_reward',immediate_reward)\n",
    "    immediate_reward[-1] = -1\n",
    "    total_reward = np.zeros(len(immediate_reward), dtype = int)\n",
    "    for i in range(len(immediate_reward)):\n",
    "        multiplier = 1\n",
    "        for j in range (i, i+10):\n",
    "            if j<len(immediate_reward):\n",
    "                total_reward[i] = total_reward[i] + (immediate_reward[j] * multiplier)\n",
    "                multiplier = multiplier * 0.9\n",
    "                \n",
    "    return total_reward\n",
    "        \n",
    "    \n",
    "    \n",
    "\n",
    "\n",
    "def train_data(input_data, output_data, action_data):\n",
    "    print_data('Training output:', np.asarray(output_data).shape)\n",
    "    del input_data[-10:]\n",
    "    del output_data[-10:]\n",
    "    rewards = calc_rewards(action_data)\n",
    "    print_data('train_data->input_data:', np.asarray(input_data).shape)\n",
    "    print_data('train_data->output_data:', np.asarray(output_data).shape)\n",
    "    for i in range(np.asarray(input_data).shape[0]):\n",
    "        display_image(np.asarray(input_data[i]).reshape(300,300), i)\n",
    "    print_data('len output_data:', len(output_data))\n",
    "    for i in range(len(output_data)):\n",
    "        print_data('output_data[i][0][0][action_data]:',output_data[i][0][0][action_data])\n",
    "        print_data('rewards[i]:',rewards[i])\n",
    "        output_data[i][0][0][action_data] = rewards[i]\n",
    "    model.train_on_batch(np.asarray(input_data), np.asarray(output_data))\n",
    "    model.save_weights('my_dino.h5', overwrite=True)\n",
    "        "
   ],
   "metadata": {
    "collapsed": false,
    "pycharm": {
     "name": "#%%\n",
     "is_executing": false
    }
   }
  },
  {
   "cell_type": "code",
   "execution_count": 31,
   "outputs": [
    {
     "traceback": [
      "\u001b[0;31m---------------------------------------------------------------------------\u001b[0m",
      "\u001b[0;31mValueError\u001b[0m                                Traceback (most recent call last)",
      "\u001b[0;32m<ipython-input-31-31f2eb6b2c89>\u001b[0m in \u001b[0;36m<module>\u001b[0;34m\u001b[0m\n\u001b[1;32m     23\u001b[0m         \u001b[0mprint_data\u001b[0m\u001b[0;34m(\u001b[0m\u001b[0;34m'train_x.shape'\u001b[0m\u001b[0;34m,\u001b[0m\u001b[0mnp\u001b[0m\u001b[0;34m.\u001b[0m\u001b[0masarray\u001b[0m\u001b[0;34m(\u001b[0m\u001b[0mtrain_x\u001b[0m\u001b[0;34m)\u001b[0m\u001b[0;34m.\u001b[0m\u001b[0mshape\u001b[0m\u001b[0;34m)\u001b[0m\u001b[0;34m\u001b[0m\u001b[0;34m\u001b[0m\u001b[0m\n\u001b[1;32m     24\u001b[0m         \u001b[0;32mif\u001b[0m \u001b[0mnum\u001b[0m\u001b[0;34m>\u001b[0m\u001b[0;36m15\u001b[0m\u001b[0;34m:\u001b[0m\u001b[0;34m\u001b[0m\u001b[0;34m\u001b[0m\u001b[0m\n\u001b[0;32m---> 25\u001b[0;31m             \u001b[0mtrain_data\u001b[0m\u001b[0;34m(\u001b[0m\u001b[0mtrain_x\u001b[0m\u001b[0;34m,\u001b[0m \u001b[0mtrain_y\u001b[0m\u001b[0;34m,\u001b[0m \u001b[0maction_list\u001b[0m\u001b[0;34m)\u001b[0m\u001b[0;34m\u001b[0m\u001b[0;34m\u001b[0m\u001b[0m\n\u001b[0m\u001b[1;32m     26\u001b[0m \u001b[0;34m\u001b[0m\u001b[0m\n\u001b[1;32m     27\u001b[0m             \u001b[0;31m# print_data('length of training set', len(train_x))\u001b[0m\u001b[0;34m\u001b[0m\u001b[0;34m\u001b[0m\u001b[0;34m\u001b[0m\u001b[0m\n",
      "\u001b[0;32m<ipython-input-30-e8c341cf2055>\u001b[0m in \u001b[0;36mtrain_data\u001b[0;34m(input_data, output_data, action_data)\u001b[0m\n\u001b[1;32m     31\u001b[0m         \u001b[0mprint_data\u001b[0m\u001b[0;34m(\u001b[0m\u001b[0;34m'rewards[i]:'\u001b[0m\u001b[0;34m,\u001b[0m\u001b[0mrewards\u001b[0m\u001b[0;34m[\u001b[0m\u001b[0mi\u001b[0m\u001b[0;34m]\u001b[0m\u001b[0;34m)\u001b[0m\u001b[0;34m\u001b[0m\u001b[0;34m\u001b[0m\u001b[0m\n\u001b[1;32m     32\u001b[0m         \u001b[0moutput_data\u001b[0m\u001b[0;34m[\u001b[0m\u001b[0mi\u001b[0m\u001b[0;34m]\u001b[0m\u001b[0;34m[\u001b[0m\u001b[0;36m0\u001b[0m\u001b[0;34m]\u001b[0m\u001b[0;34m[\u001b[0m\u001b[0;36m0\u001b[0m\u001b[0;34m]\u001b[0m\u001b[0;34m[\u001b[0m\u001b[0maction_data\u001b[0m\u001b[0;34m]\u001b[0m \u001b[0;34m=\u001b[0m \u001b[0mrewards\u001b[0m\u001b[0;34m[\u001b[0m\u001b[0mi\u001b[0m\u001b[0;34m]\u001b[0m\u001b[0;34m\u001b[0m\u001b[0;34m\u001b[0m\u001b[0m\n\u001b[0;32m---> 33\u001b[0;31m     \u001b[0mmodel\u001b[0m\u001b[0;34m.\u001b[0m\u001b[0mtrain_on_batch\u001b[0m\u001b[0;34m(\u001b[0m\u001b[0mnp\u001b[0m\u001b[0;34m.\u001b[0m\u001b[0masarray\u001b[0m\u001b[0;34m(\u001b[0m\u001b[0minput_data\u001b[0m\u001b[0;34m)\u001b[0m\u001b[0;34m,\u001b[0m \u001b[0mnp\u001b[0m\u001b[0;34m.\u001b[0m\u001b[0masarray\u001b[0m\u001b[0;34m(\u001b[0m\u001b[0moutput_data\u001b[0m\u001b[0;34m)\u001b[0m\u001b[0;34m)\u001b[0m\u001b[0;34m\u001b[0m\u001b[0;34m\u001b[0m\u001b[0m\n\u001b[0m\u001b[1;32m     34\u001b[0m     \u001b[0mmodel\u001b[0m\u001b[0;34m.\u001b[0m\u001b[0msave_weights\u001b[0m\u001b[0;34m(\u001b[0m\u001b[0;34m'my_dino.h5'\u001b[0m\u001b[0;34m,\u001b[0m \u001b[0moverwrite\u001b[0m\u001b[0;34m=\u001b[0m\u001b[0;32mTrue\u001b[0m\u001b[0;34m)\u001b[0m\u001b[0;34m\u001b[0m\u001b[0;34m\u001b[0m\u001b[0m\n\u001b[1;32m     35\u001b[0m \u001b[0;34m\u001b[0m\u001b[0m\n",
      "\u001b[0;32m~/PycharmProjects/ChromeDinoBot/venv/lib/python3.7/site-packages/keras/engine/training.py\u001b[0m in \u001b[0;36mtrain_on_batch\u001b[0;34m(self, x, y, sample_weight, class_weight, reset_metrics)\u001b[0m\n\u001b[1;32m   1506\u001b[0m             \u001b[0mx\u001b[0m\u001b[0;34m,\u001b[0m \u001b[0my\u001b[0m\u001b[0;34m,\u001b[0m\u001b[0;34m\u001b[0m\u001b[0;34m\u001b[0m\u001b[0m\n\u001b[1;32m   1507\u001b[0m             \u001b[0msample_weight\u001b[0m\u001b[0;34m=\u001b[0m\u001b[0msample_weight\u001b[0m\u001b[0;34m,\u001b[0m\u001b[0;34m\u001b[0m\u001b[0;34m\u001b[0m\u001b[0m\n\u001b[0;32m-> 1508\u001b[0;31m             class_weight=class_weight)\n\u001b[0m\u001b[1;32m   1509\u001b[0m         \u001b[0;32mif\u001b[0m \u001b[0mself\u001b[0m\u001b[0;34m.\u001b[0m\u001b[0m_uses_dynamic_learning_phase\u001b[0m\u001b[0;34m(\u001b[0m\u001b[0;34m)\u001b[0m\u001b[0;34m:\u001b[0m\u001b[0;34m\u001b[0m\u001b[0;34m\u001b[0m\u001b[0m\n\u001b[1;32m   1510\u001b[0m             \u001b[0mins\u001b[0m \u001b[0;34m=\u001b[0m \u001b[0mx\u001b[0m \u001b[0;34m+\u001b[0m \u001b[0my\u001b[0m \u001b[0;34m+\u001b[0m \u001b[0msample_weights\u001b[0m \u001b[0;34m+\u001b[0m \u001b[0;34m[\u001b[0m\u001b[0;36m1\u001b[0m\u001b[0;34m]\u001b[0m\u001b[0;34m\u001b[0m\u001b[0;34m\u001b[0m\u001b[0m\n",
      "\u001b[0;32m~/PycharmProjects/ChromeDinoBot/venv/lib/python3.7/site-packages/keras/engine/training.py\u001b[0m in \u001b[0;36m_standardize_user_data\u001b[0;34m(self, x, y, sample_weight, class_weight, check_array_lengths, batch_size)\u001b[0m\n\u001b[1;32m    619\u001b[0m                 \u001b[0mfeed_output_shapes\u001b[0m\u001b[0;34m,\u001b[0m\u001b[0;34m\u001b[0m\u001b[0;34m\u001b[0m\u001b[0m\n\u001b[1;32m    620\u001b[0m                 \u001b[0mcheck_batch_axis\u001b[0m\u001b[0;34m=\u001b[0m\u001b[0;32mFalse\u001b[0m\u001b[0;34m,\u001b[0m  \u001b[0;31m# Don't enforce the batch size.\u001b[0m\u001b[0;34m\u001b[0m\u001b[0;34m\u001b[0m\u001b[0m\n\u001b[0;32m--> 621\u001b[0;31m                 exception_prefix='target')\n\u001b[0m\u001b[1;32m    622\u001b[0m \u001b[0;34m\u001b[0m\u001b[0m\n\u001b[1;32m    623\u001b[0m             \u001b[0;31m# Generate sample-wise weight values given the `sample_weight` and\u001b[0m\u001b[0;34m\u001b[0m\u001b[0;34m\u001b[0m\u001b[0;34m\u001b[0m\u001b[0m\n",
      "\u001b[0;32m~/PycharmProjects/ChromeDinoBot/venv/lib/python3.7/site-packages/keras/engine/training_utils.py\u001b[0m in \u001b[0;36mstandardize_input_data\u001b[0;34m(data, names, shapes, check_batch_axis, exception_prefix)\u001b[0m\n\u001b[1;32m    133\u001b[0m                         \u001b[0;34m': expected '\u001b[0m \u001b[0;34m+\u001b[0m \u001b[0mnames\u001b[0m\u001b[0;34m[\u001b[0m\u001b[0mi\u001b[0m\u001b[0;34m]\u001b[0m \u001b[0;34m+\u001b[0m \u001b[0;34m' to have '\u001b[0m \u001b[0;34m+\u001b[0m\u001b[0;34m\u001b[0m\u001b[0;34m\u001b[0m\u001b[0m\n\u001b[1;32m    134\u001b[0m                         \u001b[0mstr\u001b[0m\u001b[0;34m(\u001b[0m\u001b[0mlen\u001b[0m\u001b[0;34m(\u001b[0m\u001b[0mshape\u001b[0m\u001b[0;34m)\u001b[0m\u001b[0;34m)\u001b[0m \u001b[0;34m+\u001b[0m \u001b[0;34m' dimensions, but got array '\u001b[0m\u001b[0;34m\u001b[0m\u001b[0;34m\u001b[0m\u001b[0m\n\u001b[0;32m--> 135\u001b[0;31m                         'with shape ' + str(data_shape))\n\u001b[0m\u001b[1;32m    136\u001b[0m                 \u001b[0;32mif\u001b[0m \u001b[0;32mnot\u001b[0m \u001b[0mcheck_batch_axis\u001b[0m\u001b[0;34m:\u001b[0m\u001b[0;34m\u001b[0m\u001b[0;34m\u001b[0m\u001b[0m\n\u001b[1;32m    137\u001b[0m                     \u001b[0mdata_shape\u001b[0m \u001b[0;34m=\u001b[0m \u001b[0mdata_shape\u001b[0m\u001b[0;34m[\u001b[0m\u001b[0;36m1\u001b[0m\u001b[0;34m:\u001b[0m\u001b[0;34m]\u001b[0m\u001b[0;34m\u001b[0m\u001b[0;34m\u001b[0m\u001b[0m\n",
      "\u001b[0;31mValueError\u001b[0m: Error when checking target: expected dense_3 to have 2 dimensions, but got array with shape (43, 1, 1, 2)"
     ],
     "ename": "ValueError",
     "evalue": "Error when checking target: expected dense_3 to have 2 dimensions, but got array with shape (43, 1, 1, 2)",
     "output_type": "error"
    }
   ],
   "source": [
    "itr = 0\n",
    "model = load_model('my_dino.h5')\n",
    "time.sleep(5)\n",
    "\n",
    "prev_area = None\n",
    "restart()\n",
    "train_x = []\n",
    "train_y = []\n",
    "action_list = []\n",
    "num = 0\n",
    "while True:\n",
    "    time1 = time.time()\n",
    "    input_area, full_image = get_state_image()\n",
    "    # display_image(input_area, num)\n",
    "    input_area = input_area.reshape(input_area.shape[0], input_area.shape[1], 1)\n",
    "    input_area_conv = input_area.reshape(1, input_area.shape[0], input_area.shape[1], input_area.shape[2])\n",
    "    t2 = time.time()\n",
    "    print_time('dtctn tm:', t2 - time1)\n",
    "    if prev_area is not None and num>5 and np.array_equal(full_image, prev_area):\n",
    "        itr = itr + 1\n",
    "        if itr%5 == 0:\n",
    "            clear_output()\n",
    "        print_data('train_x.shape',np.asarray(train_x).shape)\n",
    "        if num>15:\n",
    "            train_data(train_x, train_y, action_list)\n",
    "        \n",
    "            # print_data('length of training set', len(train_x))\n",
    "            # print_data('train_x_shape before training', np.asarray(train_x).shape)\n",
    "            # print_data('train_y_shape before t raining', np.asarray(train_y).shape)\n",
    "        t3 = time.time()\n",
    "        prev_area = None\n",
    "        # print_time('Training time', t3-t2)\n",
    "        num = 0\n",
    "        restart()\n",
    "        if itr == 100:\n",
    "            break\n",
    "    else:\n",
    "        t3 = time.time()\n",
    "        print_data('input_area_conv shape:', input_area_conv.shape)\n",
    "        prediction_output = model.predict(input_area_conv)\n",
    "        action = np.argmax(prediction_output)\n",
    "        action_list.append(action)\n",
    "        print_data('Prdctn output', num, ': ', prediction_output)\n",
    "        t4 = time.time()\n",
    "        # print_time('Prdctn Time:' , t4 - time1)\n",
    "        t = 0.15-(time.time()-t3)\n",
    "        # print_time(t)\n",
    "        time.sleep(t)\n",
    "        check_val_and_act(action)\n",
    "            \n",
    "        num = num + 1\n",
    "        input_area = input_area.reshape(input_area.shape[0], input_area.shape[1], 1)\n",
    "        train_x.append(input_area)\n",
    "        print_data('train_x_shape', np.asarray(train_x).shape)\n",
    "        # print('Prediction Output', output)\n",
    "        train_y.append(prediction_output[np.newaxis])\n",
    "        # print('train_y_shape', np.asarray(train_y).shape)\n",
    "        \n",
    "    prev_area = full_image\n",
    "    time2 = time.time()\n",
    "    # print_time('Loop time:', time2 - time1)\n"
   ],
   "metadata": {
    "collapsed": false,
    "pycharm": {
     "name": "#%%\n",
     "is_executing": false
    }
   }
  },
  {
   "cell_type": "code",
   "execution_count": null,
   "outputs": [],
   "source": [
    "\n"
   ],
   "metadata": {
    "collapsed": false,
    "pycharm": {
     "name": "#%%\n"
    }
   }
  }
 ],
 "metadata": {
  "kernelspec": {
   "name": "python3",
   "language": "python",
   "display_name": "Python 3"
  },
  "language_info": {
   "codemirror_mode": {
    "name": "ipython",
    "version": 2
   },
   "file_extension": ".py",
   "mimetype": "text/x-python",
   "name": "python",
   "nbconvert_exporter": "python",
   "pygments_lexer": "ipython2",
   "version": "2.7.6"
  },
  "pycharm": {
   "stem_cell": {
    "cell_type": "raw",
    "source": [],
    "metadata": {
     "collapsed": false
    }
   }
  }
 },
 "nbformat": 4,
 "nbformat_minor": 0
}
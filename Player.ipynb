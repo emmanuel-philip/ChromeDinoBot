{
 "cells": [
  {
   "cell_type": "code",
   "execution_count": 9,
   "metadata": {
    "collapsed": true,
    "pycharm": {
     "is_executing": false
    }
   },
   "outputs": [],
   "source": [
    "%matplotlib inline\n",
    "\n",
    "import PIL\n",
    "import mss\n",
    "import pyautogui \n",
    "import time  \n",
    "import numpy  as np  \n",
    "import matplotlib\n",
    "from keras import Sequential\n",
    "from keras.layers import Conv2D, Flatten, Dense, MaxPooling2D\n",
    "from keras.models import load_model\n",
    "import os\n",
    "matplotlib.use('TkAgg')\n",
    "\n",
    "import matplotlib.pyplot as plt\n",
    "from IPython.display import clear_output\n",
    "\n",
    "pyautogui.PAUSE = 0.01\n",
    "\n",
    "SHOW_TIME = False\n",
    "SHOW_DATA = True\n",
    "SHOW_PLOT = False"
   ]
  },
  {
   "cell_type": "code",
   "execution_count": 10,
   "outputs": [],
   "source": [
    "def print_time(*time_data):\n",
    "    if SHOW_TIME:\n",
    "        print(time_data)\n",
    "    \n",
    "def print_data(*var_data):\n",
    "    if SHOW_DATA:\n",
    "        print(var_data)\n",
    "    "
   ],
   "metadata": {
    "collapsed": false,
    "pycharm": {
     "name": "#%%\n",
     "is_executing": false
    }
   }
  },
  {
   "cell_type": "code",
   "execution_count": 11,
   "outputs": [],
   "source": [
    "\n",
    "restart_coords = (420, 370)\n",
    "    \n",
    "def restart():\n",
    "    #pyautogui.click(restart_coords)\n",
    "    pyautogui.keyDown('space')\n",
    "    pyautogui.keyUp('space')    \n",
    "\n",
    "\n",
    "def jump(should_jump):\n",
    "    if should_jump:\n",
    "        pyautogui.keyDown('space')\n",
    "        pyautogui.keyUp('space')\n",
    "        \n",
    "\n",
    "def check_val_and_act(val):\n",
    "    if val == 1: \n",
    "        jump(True)\n",
    "        return 1\n",
    "    else:\n",
    "        jump(False)\n",
    "        return 0"
   ],
   "metadata": {
    "collapsed": false,
    "pycharm": {
     "name": "#%%\n",
     "is_executing": false
    }
   }
  },
  {
   "cell_type": "code",
   "execution_count": 12,
   "outputs": [],
   "source": [
    "def display_image(image, title):\n",
    "    if SHOW_PLOT:\n",
    "        plt.figure().suptitle(title, fontsize=20)\n",
    "        plt.imshow(image)\n",
    "        plt.show()\n",
    "    \n",
    "def capture_image():\n",
    "    image = mss.mss().grab({\"top\":350, \"left\":50, \"width\":700, \"height\":200})\n",
    "    #image = mss.mss().grab({\"top\":560, \"left\":50, \"width\":1000, \"height\":250})\n",
    "    return PIL.Image.frombytes(\"RGB\", image.size, image.bgra, \"raw\", \"BGRX\")\n",
    "\n",
    "def convert_to_greyscale_image(color_image):\n",
    "    THRESHOLD_VALUE = 125\n",
    "    image = color_image.convert(\"L\")\n",
    "    orig_image = np.asarray(image)\n",
    "    image = image.resize((300, 300), PIL.Image.ANTIALIAS)\n",
    "    img_data = np.asarray(image)\n",
    "    greyscale_image = (img_data > THRESHOLD_VALUE) * 1.0\n",
    "    return greyscale_image, orig_image\n",
    "    \n",
    "\n",
    "def get_state_image():\n",
    "    \n",
    "    image = capture_image()\n",
    "    \n",
    "    greyscale_image, orig_image = convert_to_greyscale_image(image)\n",
    "    \n",
    "    return np.asarray(greyscale_image), orig_image\n",
    "    \n",
    "grey_image, full_image = get_state_image()\n",
    "display_image(full_image, -1)\n",
    "\n"
   ],
   "metadata": {
    "collapsed": false,
    "pycharm": {
     "name": "#%%\n",
     "is_executing": false
    }
   }
  },
  {
   "cell_type": "code",
   "execution_count": 13,
   "outputs": [],
   "source": [
    "def build_model():\n",
    "    cnn_model = Sequential()\n",
    "    \n",
    "    cnn_model.add(Conv2D(9, (21, 21), strides=(7, 7), padding='valid',input_shape=(300, 300, 1), activation='relu',\n",
    "                     kernel_initializer='random_uniform'))  #20*40*4\n",
    "    cnn_model.add(Conv2D(13, (11, 11), strides=(3, 3), padding='same', activation='relu', kernel_initializer='random_uniform'))\n",
    "    cnn_model.add(Conv2D(25, (5, 5), strides=(1, 1), padding='same', activation='relu', kernel_initializer='random_uniform'))\n",
    "    cnn_model.add(MaxPooling2D(pool_size=(2, 2), strides=None, padding='valid'))\n",
    "    cnn_model.add(Conv2D(39, (3, 3), strides=(1, 1), padding='same', activation='relu', kernel_initializer='random_uniform'))\n",
    "    cnn_model.add(MaxPooling2D(pool_size=(2, 2), strides=None, padding='valid'))\n",
    "    cnn_model.add(Flatten())\n",
    "    cnn_model.add(Dense(512, activation='relu', kernel_initializer='random_uniform'))\n",
    "    cnn_model.add(Dense(32, activation='relu', kernel_initializer='random_uniform'))\n",
    "    cnn_model.add(Dense(2, activation='relu', kernel_initializer='random_uniform'))\n",
    "    cnn_model.compile(loss='mse',optimizer='adam', metrics=['accuracy'])\n",
    "    if not os.path.isfile('my_dino.h5'):     \n",
    "        cnn_model.save_weights('my_dino.h5')\n",
    "    else:\n",
    "        cnn_model.load_weights('my_dino.h5')\n",
    "    return cnn_model\n"
   ],
   "metadata": {
    "collapsed": false,
    "pycharm": {
     "name": "#%%\n",
     "is_executing": false
    }
   }
  },
  {
   "cell_type": "code",
   "execution_count": 14,
   "outputs": [
    {
     "name": "stdout",
     "text": [
      "('Prediction output', array([0.00066886, 0.00076454], dtype=float32))\n"
     ],
     "output_type": "stream"
    }
   ],
   "source": [
    "model = build_model()\n",
    "\n",
    "t0 = time.time()\n",
    "input_area, original_image = get_state_image()\n",
    "input_area_conv = input_area[np.newaxis, ..., np.newaxis]\n",
    "output_arr = model.predict(input_area_conv)[0]\n",
    "print_data('Prediction output', output_arr)\n",
    "t1 = time.time()\n",
    "print_time('Prediction time', t1-t0)\n",
    "\n",
    "# model.save('my_dino.h5')\n",
    "    \n",
    "\n"
   ],
   "metadata": {
    "collapsed": false,
    "pycharm": {
     "name": "#%%\n",
     "is_executing": false
    }
   }
  },
  {
   "cell_type": "code",
   "execution_count": 15,
   "outputs": [],
   "source": [
    "def calc_rewards(action_data):\n",
    "    immediate_reward = [0.1] * len(action_data)\n",
    "    immediate_reward[-1] = -1\n",
    "    print_data('immediate_reward',immediate_reward)\n",
    "    total_reward = np.zeros(len(immediate_reward), dtype = float)\n",
    "    for i in range(len(immediate_reward)):\n",
    "        multiplier = 1\n",
    "        for j in range (i, i+10):\n",
    "            if j<len(immediate_reward):\n",
    "                total_reward[i] += (immediate_reward[j] * multiplier)\n",
    "                multiplier = multiplier * 0.9\n",
    "    # print_data('total_reward final:',total_reward)\n",
    "    \n",
    "    return total_reward\n",
    "        \n",
    "    \n",
    "    \n",
    "\n",
    "\n",
    "def train_data(input_data, output_data, action_data):\n",
    "    print_data('Training output:', np.asarray(output_data).shape)\n",
    "    del input_data[-10:]\n",
    "    del output_data[-10:]\n",
    "    del action_data[-10:]\n",
    "    input_data = np.asarray(input_data)\n",
    "    output_data = np.asarray(output_data)\n",
    "    rewards = calc_rewards(action_data)\n",
    "    print_data('train_data->input_data:', np.asarray(input_data).shape)\n",
    "    print_data('train_data->output_data:', np.asarray(output_data).shape)\n",
    "    print_data('train_data->action_data:',np.asarray(action_data).shape)\n",
    "    print_data('train_data->rewards:',np.asarray(rewards).shape)\n",
    "    for i in range(np.asarray(input_data).shape[0]):\n",
    "        display_image(np.asarray(input_data[i]).reshape(300,300), i)\n",
    "    print_data('len output_data:', len(output_data))\n",
    "    #for i in range(len(output_data)):\n",
    "        #print_data('rewards[i]:',rewards[i])\n",
    "        #output_data[i][0][0][action_data] = rewards[i]\n",
    "    model.train_on_batch(np.asarray(input_data), np.asarray(rewards))\n",
    "    model.save_weights('my_dino.h5', overwrite=True)\n",
    "        "
   ],
   "metadata": {
    "collapsed": false,
    "pycharm": {
     "name": "#%%\n",
     "is_executing": false
    }
   }
  },
  {
   "cell_type": "code",
   "execution_count": 15,
   "outputs": [],
   "source": [],
   "metadata": {
    "collapsed": false,
    "pycharm": {
     "name": "#%%\n",
     "is_executing": false
    }
   }
  },
  {
   "cell_type": "code",
   "execution_count": 16,
   "outputs": [
    {
     "name": "stdout",
     "text": [
      "('input_area_conv shape:', (1, 300, 300, 1))\n('Prdctn output', 0, ': ', array([[2.3349543e-05, 2.7499764e-04]], dtype=float32))\n('train_x_shape', (1, 300, 300, 1))\n('train_y_shape', (1, 2))\n",
      "('input_area_conv shape:', (1, 300, 300, 1))\n('Prdctn output', 1, ': ', array([[0.00015232, 0.00031191]], dtype=float32))\n('train_x_shape', (2, 300, 300, 1))\n('train_y_shape', (2, 2))\n",
      "('input_area_conv shape:', (1, 300, 300, 1))\n('Prdctn output', 2, ': ', array([[0.00015878, 0.00037277]], dtype=float32))\n('train_x_shape', (3, 300, 300, 1))\n('train_y_shape', (3, 2))\n",
      "('input_area_conv shape:', (1, 300, 300, 1))\n('Prdctn output', 3, ': ', array([[9.472969e-05, 3.706073e-04]], dtype=float32))\n('train_x_shape', (4, 300, 300, 1))\n('train_y_shape', (4, 2))\n",
      "('input_area_conv shape:', (1, 300, 300, 1))\n('Prdctn output', 4, ': ', array([[0.00019572, 0.00027916]], dtype=float32))\n('train_x_shape', (5, 300, 300, 1))\n('train_y_shape', (5, 2))\n",
      "('input_area_conv shape:', (1, 300, 300, 1))\n('Prdctn output', 5, ': ', array([[0.00012434, 0.00030277]], dtype=float32))\n('train_x_shape', (6, 300, 300, 1))\n('train_y_shape', (6, 2))\n",
      "('input_area_conv shape:', (1, 300, 300, 1))\n('Prdctn output', 6, ': ', array([[0.00024144, 0.00034423]], dtype=float32))\n('train_x_shape', (7, 300, 300, 1))\n('train_y_shape', (7, 2))\n",
      "('input_area_conv shape:', (1, 300, 300, 1))\n('Prdctn output', 7, ': ', array([[0.00012398, 0.00051209]], dtype=float32))\n('train_x_shape', (8, 300, 300, 1))\n('train_y_shape', (8, 2))\n",
      "('input_area_conv shape:', (1, 300, 300, 1))\n('Prdctn output', 8, ': ', array([[0.        , 0.00020286]], dtype=float32))\n('train_x_shape', (9, 300, 300, 1))\n('train_y_shape', (9, 2))\n",
      "('input_area_conv shape:', (1, 300, 300, 1))\n('Prdctn output', 9, ': ', array([[0.00012759, 0.00046147]], dtype=float32))\n('train_x_shape', (10, 300, 300, 1))\n('train_y_shape', (10, 2))\n",
      "('input_area_conv shape:', (1, 300, 300, 1))\n('Prdctn output', 10, ': ', array([[0.0001551 , 0.00047106]], dtype=float32))\n('train_x_shape', (11, 300, 300, 1))\n('train_y_shape', (11, 2))\n",
      "('input_area_conv shape:', (1, 300, 300, 1))\n('Prdctn output', 11, ': ', array([[0.00019172, 0.00031824]], dtype=float32))\n('train_x_shape', (12, 300, 300, 1))\n('train_y_shape', (12, 2))\n",
      "('input_area_conv shape:', (1, 300, 300, 1))\n('Prdctn output', 12, ': ', array([[6.113180e-05, 2.490715e-04]], dtype=float32))\n('train_x_shape', (13, 300, 300, 1))\n('train_y_shape', (13, 2))\n",
      "('input_area_conv shape:', (1, 300, 300, 1))\n('Prdctn output', 13, ': ', array([[0.00012682, 0.00038286]], dtype=float32))\n('train_x_shape', (14, 300, 300, 1))\n('train_y_shape', (14, 2))\n",
      "('input_area_conv shape:', (1, 300, 300, 1))\n('Prdctn output', 14, ': ', array([[0.00024688, 0.00048145]], dtype=float32))\n",
      "('train_x_shape', (15, 300, 300, 1))\n('train_y_shape', (15, 2))\n('input_area_conv shape:', (1, 300, 300, 1))\n('Prdctn output', 15, ': ', array([[0.        , 0.00022771]], dtype=float32))\n",
      "('train_x_shape', (16, 300, 300, 1))\n('train_y_shape', (16, 2))\n('input_area_conv shape:', (1, 300, 300, 1))\n('Prdctn output', 16, ': ', array([[0.00014486, 0.0003728 ]], dtype=float32))\n",
      "('train_x_shape', (17, 300, 300, 1))\n('train_y_shape', (17, 2))\n('input_area_conv shape:', (1, 300, 300, 1))\n('Prdctn output', 17, ': ', array([[0.00010028, 0.00029102]], dtype=float32))\n",
      "('train_x_shape', (18, 300, 300, 1))\n('train_y_shape', (18, 2))\n('input_area_conv shape:', (1, 300, 300, 1))\n('Prdctn output', 18, ': ', array([[0.00019753, 0.00022156]], dtype=float32))\n",
      "('train_x_shape', (19, 300, 300, 1))\n('train_y_shape', (19, 2))\n('input_area_conv shape:', (1, 300, 300, 1))\n('Prdctn output', 19, ': ', array([[0.00018895, 0.00030948]], dtype=float32))\n",
      "('train_x_shape', (20, 300, 300, 1))\n('train_y_shape', (20, 2))\n('input_area_conv shape:', (1, 300, 300, 1))\n('Prdctn output', 20, ': ', array([[0.00029189, 0.00035035]], dtype=float32))\n",
      "('train_x_shape', (21, 300, 300, 1))\n('train_y_shape', (21, 2))\n('input_area_conv shape:', (1, 300, 300, 1))\n('Prdctn output', 21, ': ', array([[0.00038447, 0.00030589]], dtype=float32))\n('train_x_shape', (22, 300, 300, 1))\n('train_y_shape', (22, 2))\n",
      "('input_area_conv shape:', (1, 300, 300, 1))\n('Prdctn output', 22, ': ', array([[5.1346953e-05, 2.6916392e-04]], dtype=float32))\n",
      "('train_x_shape', (23, 300, 300, 1))\n('train_y_shape', (23, 2))\n('input_area_conv shape:', (1, 300, 300, 1))\n('Prdctn output', 23, ': ', array([[0.00019845, 0.00030156]], dtype=float32))\n",
      "('train_x_shape', (24, 300, 300, 1))\n('train_y_shape', (24, 2))\n('input_area_conv shape:', (1, 300, 300, 1))\n('Prdctn output', 24, ': ', array([[0.0002912 , 0.00030926]], dtype=float32))\n",
      "('train_x_shape', (25, 300, 300, 1))\n('train_y_shape', (25, 2))\n('input_area_conv shape:', (1, 300, 300, 1))\n('Prdctn output', 25, ': ', array([[0.00017695, 0.00029854]], dtype=float32))\n",
      "('train_x_shape', (26, 300, 300, 1))\n('train_y_shape', (26, 2))\n('input_area_conv shape:', (1, 300, 300, 1))\n('Prdctn output', 26, ': ', array([[2.8464492e-04, 9.1983631e-05]], dtype=float32))\n('train_x_shape', (27, 300, 300, 1))\n('train_y_shape', (27, 2))\n",
      "('input_area_conv shape:', (1, 300, 300, 1))\n('Prdctn output', 27, ': ', array([[0.00012048, 0.00021371]], dtype=float32))\n",
      "('train_x_shape', (28, 300, 300, 1))\n('train_y_shape', (28, 2))\n('input_area_conv shape:', (1, 300, 300, 1))\n('Prdctn output', 28, ': ', array([[0.00027341, 0.00042007]], dtype=float32))\n",
      "('train_x_shape', (29, 300, 300, 1))\n('train_y_shape', (29, 2))\n('input_area_conv shape:', (1, 300, 300, 1))\n('Prdctn output', 29, ': ', array([[0.0002854 , 0.00034061]], dtype=float32))\n",
      "('train_x_shape', (30, 300, 300, 1))\n('train_y_shape', (30, 2))\n('input_area_conv shape:', (1, 300, 300, 1))\n('Prdctn output', 30, ': ', array([[0.00031698, 0.00026451]], dtype=float32))\n('train_x_shape', (31, 300, 300, 1))\n('train_y_shape', (31, 2))\n",
      "('input_area_conv shape:', (1, 300, 300, 1))\n('Prdctn output', 31, ': ', array([[0.00032637, 0.00048533]], dtype=float32))\n",
      "('train_x_shape', (32, 300, 300, 1))\n('train_y_shape', (32, 2))\n('input_area_conv shape:', (1, 300, 300, 1))\n('Prdctn output', 32, ': ', array([[6.5765038e-05, 4.1469844e-04]], dtype=float32))\n",
      "('train_x_shape', (33, 300, 300, 1))\n('train_y_shape', (33, 2))\n('input_area_conv shape:', (1, 300, 300, 1))\n('Prdctn output', 33, ': ', array([[0.00041246, 0.00031305]], dtype=float32))\n('train_x_shape', (34, 300, 300, 1))\n('train_y_shape', (34, 2))\n",
      "('input_area_conv shape:', (1, 300, 300, 1))\n('Prdctn output', 34, ': ', array([[0.00015014, 0.00018877]], dtype=float32))\n",
      "('train_x_shape', (35, 300, 300, 1))\n('train_y_shape', (35, 2))\n('input_area_conv shape:', (1, 300, 300, 1))\n('Prdctn output', 35, ': ', array([[0.00030749, 0.00026534]], dtype=float32))\n('train_x_shape', (36, 300, 300, 1))\n('train_y_shape', (36, 2))\n",
      "('input_area_conv shape:', (1, 300, 300, 1))\n('Prdctn output', 36, ': ', array([[0.00045182, 0.00033853]], dtype=float32))\n('train_x_shape', (37, 300, 300, 1))\n('train_y_shape', (37, 2))\n('input_area_conv shape:', (1, 300, 300, 1))\n('Prdctn output', 37, ': ', array([[2.4710358e-05, 3.1025882e-04]], dtype=float32))\n",
      "('train_x_shape', (38, 300, 300, 1))\n('train_y_shape', (38, 2))\n('input_area_conv shape:', (1, 300, 300, 1))\n('Prdctn output', 38, ': ', array([[0.00026581, 0.00028602]], dtype=float32))\n",
      "('train_x_shape', (39, 300, 300, 1))\n('train_y_shape', (39, 2))\n('input_area_conv shape:', (1, 300, 300, 1))\n('Prdctn output', 39, ': ', array([[0.00042128, 0.00061121]], dtype=float32))\n",
      "('train_x_shape', (40, 300, 300, 1))\n('train_y_shape', (40, 2))\n('input_area_conv shape:', (1, 300, 300, 1))\n('Prdctn output', 40, ': ', array([[0.00029845, 0.00056908]], dtype=float32))\n",
      "('train_x_shape', (41, 300, 300, 1))\n('train_y_shape', (41, 2))\n('input_area_conv shape:', (1, 300, 300, 1))\n('Prdctn output', 41, ': ', array([[0.00016297, 0.00042651]], dtype=float32))\n",
      "('train_x_shape', (42, 300, 300, 1))\n('train_y_shape', (42, 2))\n('input_area_conv shape:', (1, 300, 300, 1))\n('Prdctn output', 42, ': ', array([[0.00016265, 0.00057457]], dtype=float32))\n",
      "('train_x_shape', (43, 300, 300, 1))\n('train_y_shape', (43, 2))\n('input_area_conv shape:', (1, 300, 300, 1))\n('Prdctn output', 43, ': ', array([[0.0002721 , 0.00051584]], dtype=float32))\n",
      "('train_x_shape', (44, 300, 300, 1))\n('train_y_shape', (44, 2))\n('input_area_conv shape:', (1, 300, 300, 1))\n('Prdctn output', 44, ': ', array([[0.        , 0.00016352]], dtype=float32))\n",
      "('train_x_shape', (45, 300, 300, 1))\n('train_y_shape', (45, 2))\n('input_area_conv shape:', (1, 300, 300, 1))\n('Prdctn output', 45, ': ', array([[2.7057665e-06, 4.4865900e-04]], dtype=float32))\n",
      "('train_x_shape', (46, 300, 300, 1))\n('train_y_shape', (46, 2))\n('input_area_conv shape:', (1, 300, 300, 1))\n('Prdctn output', 46, ': ', array([[0.00027977, 0.00063664]], dtype=float32))\n",
      "('train_x_shape', (47, 300, 300, 1))\n('train_y_shape', (47, 2))\n('input_area_conv shape:', (1, 300, 300, 1))\n('Prdctn output', 47, ': ', array([[0.        , 0.00034555]], dtype=float32))\n",
      "('train_x_shape', (48, 300, 300, 1))\n('train_y_shape', (48, 2))\n('input_area_conv shape:', (1, 300, 300, 1))\n('Prdctn output', 48, ': ', array([[0.00034207, 0.00023387]], dtype=float32))\n",
      "('train_x_shape', (49, 300, 300, 1))\n('train_y_shape', (49, 2))\n('input_area_conv shape:', (1, 300, 300, 1))\n('Prdctn output', 49, ': ', array([[0.00019205, 0.00024242]], dtype=float32))\n",
      "('train_x_shape', (50, 300, 300, 1))\n('train_y_shape', (50, 2))\n('input_area_conv shape:', (1, 300, 300, 1))\n('Prdctn output', 50, ': ', array([[0.00051759, 0.00043116]], dtype=float32))\n('train_x_shape', (51, 300, 300, 1))\n('train_y_shape', (51, 2))\n",
      "('input_area_conv shape:', (1, 300, 300, 1))\n('Prdctn output', 51, ': ', array([[0.00034532, 0.00071888]], dtype=float32))\n",
      "('train_x_shape', (52, 300, 300, 1))\n('train_y_shape', (52, 2))\n('train_x.shape', (52, 300, 300, 1))\n('pred_output:', array([[2.33496430e-05, 2.74997437e-04],\n       [1.52324676e-04, 3.11911484e-04],\n       [1.58783310e-04, 3.72768991e-04],\n       [9.47296649e-05, 3.70607420e-04],\n       [1.95722881e-04, 2.79156870e-04],\n       [1.24342565e-04, 3.02768691e-04],\n       [2.41440386e-04, 3.44233209e-04],\n       [1.23979597e-04, 5.12090221e-04],\n       [0.00000000e+00, 2.02862604e-04],\n       [1.27587075e-04, 4.61473857e-04],\n       [1.55102913e-04, 4.71060775e-04],\n       [1.91724190e-04, 3.18238133e-04],\n       [6.11318756e-05, 2.49071512e-04],\n       [1.26824772e-04, 3.82857455e-04],\n       [2.46884476e-04, 4.81449068e-04],\n       [0.00000000e+00, 2.27706754e-04],\n       [1.44863399e-04, 3.72803974e-04],\n       [1.00284880e-04, 2.91024655e-04],\n       [1.97531888e-04, 2.21556169e-04],\n       [1.88945764e-04, 3.09478288e-04],\n       [2.91890785e-04, 3.50347080e-04],\n       [3.84467508e-04, 3.05889291e-04],\n       [5.13471314e-05, 2.69163895e-04],\n       [1.98453825e-04, 3.01561871e-04],\n       [2.91195320e-04, 3.09260358e-04],\n       [1.76949354e-04, 2.98543833e-04],\n       [2.84644833e-04, 9.19837694e-05],\n       [1.20485005e-04, 2.13708438e-04],\n       [2.73406913e-04, 4.20069031e-04],\n       [2.85401999e-04, 3.40612634e-04],\n       [3.16980149e-04, 2.64511065e-04],\n       [3.26374284e-04, 4.85333032e-04],\n       [6.57649944e-05, 4.14698443e-04],\n       [4.12455207e-04, 3.13046592e-04],\n       [1.50138905e-04, 1.88770646e-04],\n       [3.07487673e-04, 2.65338167e-04],\n       [4.51822067e-04, 3.38525308e-04],\n       [2.47105490e-05, 3.10258678e-04],\n       [2.65804993e-04, 2.86016846e-04],\n       [4.21282894e-04, 6.11205993e-04],\n       [2.98451458e-04, 5.69078606e-04],\n       [1.62969882e-04, 4.26508603e-04],\n       [1.62654251e-04, 5.74565842e-04],\n       [2.72101577e-04, 5.15836233e-04],\n       [0.00000000e+00, 1.63518751e-04],\n       [2.70568830e-06, 4.48659091e-04],\n       [2.79767963e-04, 6.36644603e-04],\n       [0.00000000e+00, 3.45549808e-04],\n       [3.42068088e-04, 2.33865838e-04],\n       [1.92051244e-04, 2.42422131e-04],\n       [5.17591485e-04, 4.31159919e-04],\n       [3.45322245e-04, 7.18882831e-04]], dtype=float32))\n([array([2.3349543e-05, 2.7499764e-04], dtype=float32), array([0.00015232, 0.00031191], dtype=float32), array([0.00015878, 0.00037277], dtype=float32), array([9.472969e-05, 3.706073e-04], dtype=float32), array([0.00019572, 0.00027916], dtype=float32), array([0.00012434, 0.00030277], dtype=float32), array([0.00024144, 0.00034423], dtype=float32), array([0.00012398, 0.00051209], dtype=float32), array([0.        , 0.00020286], dtype=float32), array([0.00012759, 0.00046147], dtype=float32), array([0.0001551 , 0.00047106], dtype=float32), array([0.00019172, 0.00031824], dtype=float32), array([6.113180e-05, 2.490715e-04], dtype=float32), array([0.00012682, 0.00038286], dtype=float32), array([0.00024688, 0.00048145], dtype=float32), array([0.        , 0.00022771], dtype=float32), array([0.00014486, 0.0003728 ], dtype=float32), array([0.00010028, 0.00029102], dtype=float32), array([0.00019753, 0.00022156], dtype=float32), array([0.00018895, 0.00030948], dtype=float32), array([0.00029189, 0.00035035], dtype=float32), array([0.00038447, 0.00030589], dtype=float32), array([5.1346953e-05, 2.6916392e-04], dtype=float32), array([0.00019845, 0.00030156], dtype=float32), array([0.0002912 , 0.00030926], dtype=float32), array([0.00017695, 0.00029854], dtype=float32), array([2.8464492e-04, 9.1983631e-05], dtype=float32), array([0.00012048, 0.00021371], dtype=float32), array([0.00027341, 0.00042007], dtype=float32), array([0.0002854 , 0.00034061], dtype=float32), array([0.00031698, 0.00026451], dtype=float32), array([0.00032637, 0.00048533], dtype=float32), array([6.5765038e-05, 4.1469844e-04], dtype=float32), array([0.00041246, 0.00031305], dtype=float32), array([0.00015014, 0.00018877], dtype=float32), array([0.00030749, 0.00026534], dtype=float32), array([0.00045182, 0.00033853], dtype=float32), array([2.4710358e-05, 3.1025882e-04], dtype=float32), array([0.00026581, 0.00028602], dtype=float32), array([0.00042128, 0.00061121], dtype=float32), array([0.00029845, 0.00056908], dtype=float32), array([0.00016297, 0.00042651], dtype=float32), array([0.00016265, 0.00057457], dtype=float32), array([0.0002721 , 0.00051584], dtype=float32), array([0.        , 0.00016352], dtype=float32), array([2.7057665e-06, 4.4865900e-04], dtype=float32), array([0.00027977, 0.00063664], dtype=float32), array([0.        , 0.00034555], dtype=float32), array([0.00034207, 0.00023387], dtype=float32), array([0.00019205, 0.00024242], dtype=float32), array([0.00051759, 0.00043116], dtype=float32), array([0.00034532, 0.00071888], dtype=float32)],)\n('Training output:', (52, 2))\n('immediate_reward', [0.1, 0.1, 0.1, 0.1, 0.1, 0.1, 0.1, 0.1, 0.1, 0.1, 0.1, 0.1, 0.1, 0.1, 0.1, 0.1, 0.1, 0.1, 0.1, 0.1, 0.1, 0.1, 0.1, 0.1, 0.1, 0.1, 0.1, 0.1, 0.1, 0.1, 0.1, 0.1, 0.1, 0.1, 0.1, 0.1, 0.1, 0.1, 0.1, 0.1, 0.1, -1])\n('train_data->input_data:', (42, 300, 300, 1))\n('train_data->output_data:', (42, 2))\n('train_data->action_data:', (42,))\n('train_data->rewards:', (42,))\n('len output_data:', 42)\n"
     ],
     "output_type": "stream"
    },
    {
     "traceback": [
      "\u001b[0;31m---------------------------------------------------------------------------\u001b[0m",
      "\u001b[0;31mValueError\u001b[0m                                Traceback (most recent call last)",
      "\u001b[0;32m<ipython-input-16-4418a4ae5727>\u001b[0m in \u001b[0;36m<module>\u001b[0;34m\u001b[0m\n\u001b[1;32m     70\u001b[0m         \u001b[0;31m# print_time('Loop time:', time2 - time1)\u001b[0m\u001b[0;34m\u001b[0m\u001b[0;34m\u001b[0m\u001b[0;34m\u001b[0m\u001b[0m\n\u001b[1;32m     71\u001b[0m \u001b[0;34m\u001b[0m\u001b[0m\n\u001b[0;32m---> 72\u001b[0;31m \u001b[0mtrain_player\u001b[0m\u001b[0;34m(\u001b[0m\u001b[0;34m)\u001b[0m\u001b[0;34m\u001b[0m\u001b[0;34m\u001b[0m\u001b[0m\n\u001b[0m\u001b[1;32m     73\u001b[0m \u001b[0;34m\u001b[0m\u001b[0m\n",
      "\u001b[0;32m<ipython-input-16-4418a4ae5727>\u001b[0m in \u001b[0;36mtrain_player\u001b[0;34m()\u001b[0m\n\u001b[1;32m     28\u001b[0m                 \u001b[0mprint_data\u001b[0m\u001b[0;34m(\u001b[0m\u001b[0;34m'pred_output:'\u001b[0m\u001b[0;34m,\u001b[0m\u001b[0mpred_output\u001b[0m\u001b[0;34m)\u001b[0m\u001b[0;34m\u001b[0m\u001b[0;34m\u001b[0m\u001b[0m\n\u001b[1;32m     29\u001b[0m                 \u001b[0mprint_data\u001b[0m\u001b[0;34m(\u001b[0m\u001b[0mtrain_y\u001b[0m\u001b[0;34m)\u001b[0m\u001b[0;34m\u001b[0m\u001b[0;34m\u001b[0m\u001b[0m\n\u001b[0;32m---> 30\u001b[0;31m                 \u001b[0mtrain_data\u001b[0m\u001b[0;34m(\u001b[0m\u001b[0mtrain_x\u001b[0m\u001b[0;34m,\u001b[0m \u001b[0mtrain_y\u001b[0m\u001b[0;34m,\u001b[0m \u001b[0maction_list\u001b[0m\u001b[0;34m)\u001b[0m\u001b[0;34m\u001b[0m\u001b[0;34m\u001b[0m\u001b[0m\n\u001b[0m\u001b[1;32m     31\u001b[0m                 \u001b[0mtrain_x\u001b[0m \u001b[0;34m=\u001b[0m \u001b[0;34m[\u001b[0m\u001b[0;34m]\u001b[0m\u001b[0;34m\u001b[0m\u001b[0;34m\u001b[0m\u001b[0m\n\u001b[1;32m     32\u001b[0m                 \u001b[0mtrain_y\u001b[0m \u001b[0;34m=\u001b[0m \u001b[0;34m[\u001b[0m\u001b[0;34m]\u001b[0m\u001b[0;34m\u001b[0m\u001b[0;34m\u001b[0m\u001b[0m\n",
      "\u001b[0;32m<ipython-input-15-b7a643749236>\u001b[0m in \u001b[0;36mtrain_data\u001b[0;34m(input_data, output_data, action_data)\u001b[0m\n\u001b[1;32m     36\u001b[0m         \u001b[0;31m#print_data('rewards[i]:',rewards[i])\u001b[0m\u001b[0;34m\u001b[0m\u001b[0;34m\u001b[0m\u001b[0;34m\u001b[0m\u001b[0m\n\u001b[1;32m     37\u001b[0m         \u001b[0;31m#output_data[i][0][0][action_data] = rewards[i]\u001b[0m\u001b[0;34m\u001b[0m\u001b[0;34m\u001b[0m\u001b[0;34m\u001b[0m\u001b[0m\n\u001b[0;32m---> 38\u001b[0;31m     \u001b[0mmodel\u001b[0m\u001b[0;34m.\u001b[0m\u001b[0mtrain_on_batch\u001b[0m\u001b[0;34m(\u001b[0m\u001b[0mnp\u001b[0m\u001b[0;34m.\u001b[0m\u001b[0masarray\u001b[0m\u001b[0;34m(\u001b[0m\u001b[0minput_data\u001b[0m\u001b[0;34m)\u001b[0m\u001b[0;34m,\u001b[0m \u001b[0mnp\u001b[0m\u001b[0;34m.\u001b[0m\u001b[0masarray\u001b[0m\u001b[0;34m(\u001b[0m\u001b[0mrewards\u001b[0m\u001b[0;34m)\u001b[0m\u001b[0;34m)\u001b[0m\u001b[0;34m\u001b[0m\u001b[0;34m\u001b[0m\u001b[0m\n\u001b[0m\u001b[1;32m     39\u001b[0m     \u001b[0mmodel\u001b[0m\u001b[0;34m.\u001b[0m\u001b[0msave_weights\u001b[0m\u001b[0;34m(\u001b[0m\u001b[0;34m'my_dino.h5'\u001b[0m\u001b[0;34m,\u001b[0m \u001b[0moverwrite\u001b[0m\u001b[0;34m=\u001b[0m\u001b[0;32mTrue\u001b[0m\u001b[0;34m)\u001b[0m\u001b[0;34m\u001b[0m\u001b[0;34m\u001b[0m\u001b[0m\n\u001b[1;32m     40\u001b[0m \u001b[0;34m\u001b[0m\u001b[0m\n",
      "\u001b[0;32m~/PycharmProjects/ChromeDinoBot/venv/lib/python3.7/site-packages/keras/engine/training.py\u001b[0m in \u001b[0;36mtrain_on_batch\u001b[0;34m(self, x, y, sample_weight, class_weight, reset_metrics)\u001b[0m\n\u001b[1;32m   1506\u001b[0m             \u001b[0mx\u001b[0m\u001b[0;34m,\u001b[0m \u001b[0my\u001b[0m\u001b[0;34m,\u001b[0m\u001b[0;34m\u001b[0m\u001b[0;34m\u001b[0m\u001b[0m\n\u001b[1;32m   1507\u001b[0m             \u001b[0msample_weight\u001b[0m\u001b[0;34m=\u001b[0m\u001b[0msample_weight\u001b[0m\u001b[0;34m,\u001b[0m\u001b[0;34m\u001b[0m\u001b[0;34m\u001b[0m\u001b[0m\n\u001b[0;32m-> 1508\u001b[0;31m             class_weight=class_weight)\n\u001b[0m\u001b[1;32m   1509\u001b[0m         \u001b[0;32mif\u001b[0m \u001b[0mself\u001b[0m\u001b[0;34m.\u001b[0m\u001b[0m_uses_dynamic_learning_phase\u001b[0m\u001b[0;34m(\u001b[0m\u001b[0;34m)\u001b[0m\u001b[0;34m:\u001b[0m\u001b[0;34m\u001b[0m\u001b[0;34m\u001b[0m\u001b[0m\n\u001b[1;32m   1510\u001b[0m             \u001b[0mins\u001b[0m \u001b[0;34m=\u001b[0m \u001b[0mx\u001b[0m \u001b[0;34m+\u001b[0m \u001b[0my\u001b[0m \u001b[0;34m+\u001b[0m \u001b[0msample_weights\u001b[0m \u001b[0;34m+\u001b[0m \u001b[0;34m[\u001b[0m\u001b[0;36m1\u001b[0m\u001b[0;34m]\u001b[0m\u001b[0;34m\u001b[0m\u001b[0;34m\u001b[0m\u001b[0m\n",
      "\u001b[0;32m~/PycharmProjects/ChromeDinoBot/venv/lib/python3.7/site-packages/keras/engine/training.py\u001b[0m in \u001b[0;36m_standardize_user_data\u001b[0;34m(self, x, y, sample_weight, class_weight, check_array_lengths, batch_size)\u001b[0m\n\u001b[1;32m    619\u001b[0m                 \u001b[0mfeed_output_shapes\u001b[0m\u001b[0;34m,\u001b[0m\u001b[0;34m\u001b[0m\u001b[0;34m\u001b[0m\u001b[0m\n\u001b[1;32m    620\u001b[0m                 \u001b[0mcheck_batch_axis\u001b[0m\u001b[0;34m=\u001b[0m\u001b[0;32mFalse\u001b[0m\u001b[0;34m,\u001b[0m  \u001b[0;31m# Don't enforce the batch size.\u001b[0m\u001b[0;34m\u001b[0m\u001b[0;34m\u001b[0m\u001b[0m\n\u001b[0;32m--> 621\u001b[0;31m                 exception_prefix='target')\n\u001b[0m\u001b[1;32m    622\u001b[0m \u001b[0;34m\u001b[0m\u001b[0m\n\u001b[1;32m    623\u001b[0m             \u001b[0;31m# Generate sample-wise weight values given the `sample_weight` and\u001b[0m\u001b[0;34m\u001b[0m\u001b[0;34m\u001b[0m\u001b[0;34m\u001b[0m\u001b[0m\n",
      "\u001b[0;32m~/PycharmProjects/ChromeDinoBot/venv/lib/python3.7/site-packages/keras/engine/training_utils.py\u001b[0m in \u001b[0;36mstandardize_input_data\u001b[0;34m(data, names, shapes, check_batch_axis, exception_prefix)\u001b[0m\n\u001b[1;32m    143\u001b[0m                             \u001b[0;34m': expected '\u001b[0m \u001b[0;34m+\u001b[0m \u001b[0mnames\u001b[0m\u001b[0;34m[\u001b[0m\u001b[0mi\u001b[0m\u001b[0;34m]\u001b[0m \u001b[0;34m+\u001b[0m \u001b[0;34m' to have shape '\u001b[0m \u001b[0;34m+\u001b[0m\u001b[0;34m\u001b[0m\u001b[0;34m\u001b[0m\u001b[0m\n\u001b[1;32m    144\u001b[0m                             \u001b[0mstr\u001b[0m\u001b[0;34m(\u001b[0m\u001b[0mshape\u001b[0m\u001b[0;34m)\u001b[0m \u001b[0;34m+\u001b[0m \u001b[0;34m' but got array with shape '\u001b[0m \u001b[0;34m+\u001b[0m\u001b[0;34m\u001b[0m\u001b[0;34m\u001b[0m\u001b[0m\n\u001b[0;32m--> 145\u001b[0;31m                             str(data_shape))\n\u001b[0m\u001b[1;32m    146\u001b[0m     \u001b[0;32mreturn\u001b[0m \u001b[0mdata\u001b[0m\u001b[0;34m\u001b[0m\u001b[0;34m\u001b[0m\u001b[0m\n\u001b[1;32m    147\u001b[0m \u001b[0;34m\u001b[0m\u001b[0m\n",
      "\u001b[0;31mValueError\u001b[0m: Error when checking target: expected dense_9 to have shape (2,) but got array with shape (1,)"
     ],
     "ename": "ValueError",
     "evalue": "Error when checking target: expected dense_9 to have shape (2,) but got array with shape (1,)",
     "output_type": "error"
    }
   ],
   "source": [
    "def train_player():\n",
    "    itr = 0\n",
    "    continue_loop = True\n",
    "    model = build_model()\n",
    "    time.sleep(5)\n",
    "    \n",
    "    prev_area = None\n",
    "    restart()\n",
    "    train_x = []\n",
    "    train_y = []\n",
    "    action_list = []\n",
    "    num = 0\n",
    "    while continue_loop:\n",
    "        time1 = time.time()\n",
    "        input_area, full_image = get_state_image()\n",
    "        # display_image(input_area, num)\n",
    "        input_area = input_area.reshape(input_area.shape[0], input_area.shape[1], 1)\n",
    "        input_area_conv = input_area.reshape(1, input_area.shape[0], input_area.shape[1], input_area.shape[2])\n",
    "        t2 = time.time()\n",
    "        print_time('dtctn tm:', t2 - time1)\n",
    "        if prev_area is not None and num>5 and np.array_equal(full_image, prev_area):\n",
    "            itr = itr + 1\n",
    "            if itr%5 == 0:\n",
    "                clear_output()\n",
    "            print_data('train_x.shape',np.asarray(train_x).shape)\n",
    "            if num>15:\n",
    "                pred_output = model.predict(np.asarray(train_x))\n",
    "                print_data('pred_output:',pred_output)\n",
    "                print_data(train_y)\n",
    "                train_data(train_x, train_y, action_list)\n",
    "                train_x = []\n",
    "                train_y = []    \n",
    "                action_list = []\n",
    "                # print_data('length of training set', len(train_x))\n",
    "                # print_data('train_x_shape before training', np.asarray(train_x).shape)\n",
    "                # print_data('train_y_shape before t raining', np.asarray(train_y).shape)\n",
    "            t3 = time.time()\n",
    "            prev_area = None\n",
    "            # print_time('Training time', t3-t2)\n",
    "            num = 0\n",
    "            restart()\n",
    "            if itr == 100:\n",
    "                continue_loop = False\n",
    "        else:\n",
    "            t3 = time.time()\n",
    "            print_data('input_area_conv shape:', input_area_conv.shape)\n",
    "            prediction_output = model.predict(input_area_conv)\n",
    "            action = np.argmax(prediction_output[0])\n",
    "            action_list.append(action)\n",
    "            print_data('Prdctn output', num, ': ', prediction_output)\n",
    "            t4 = time.time()\n",
    "            # print_time('Prdctn Time:' , t4 - time1)\n",
    "            t = 0.15-(time.time()-t3)\n",
    "            # print_time(t)\n",
    "            time.sleep(t)\n",
    "            check_val_and_act(action)\n",
    "                \n",
    "            num = num + 1\n",
    "            input_area = input_area.reshape(input_area.shape[0], input_area.shape[1], 1)\n",
    "            #np.append(train_x, input_area, axis=3)\n",
    "            train_x.append(input_area)\n",
    "            print_data('train_x_shape', np.asarray(train_x).shape)\n",
    "            # train_y_temp = model.predict(np.asarray(train_x))\n",
    "            # print_data('Prediction Output', output)\n",
    "            train_y.append(prediction_output[0])\n",
    "            print_data('train_y_shape', np.asarray(train_y).shape)\n",
    "            \n",
    "        prev_area = full_image\n",
    "        time2 = time.time()\n",
    "        # print_time('Loop time:', time2 - time1)\n",
    "\n",
    "train_player()"
   ],
   "metadata": {
    "collapsed": false,
    "pycharm": {
     "name": "#%%\n",
     "is_executing": false
    }
   }
  },
  {
   "cell_type": "code",
   "execution_count": null,
   "outputs": [],
   "source": [
    "                                                                          \n"
   ],
   "metadata": {
    "collapsed": false,
    "pycharm": {
     "name": "#%%\n",
     "is_executing": false
    }
   }
  }
 ],
 "metadata": {
  "kernelspec": {
   "name": "python3",
   "language": "python",
   "display_name": "Python 3"
  },
  "language_info": {
   "codemirror_mode": {
    "name": "ipython",
    "version": 2
   },
   "file_extension": ".py",
   "mimetype": "text/x-python",
   "name": "python",
   "nbconvert_exporter": "python",
   "pygments_lexer": "ipython2",
   "version": "2.7.6"
  },
  "pycharm": {
   "stem_cell": {
    "cell_type": "raw",
    "source": [],
    "metadata": {
     "collapsed": false
    }
   }
  }
 },
 "nbformat": 4,
 "nbformat_minor": 0
}
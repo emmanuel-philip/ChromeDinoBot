{
 "cells": [
  {
   "cell_type": "code",
   "execution_count": 45,
   "metadata": {
    "collapsed": true,
    "pycharm": {
     "is_executing": false
    }
   },
   "outputs": [
    {
     "name": "stderr",
     "text": [
      "/Users/in-emmanuel.philip/PycharmProjects/trial/venv/lib/python2.7/site-packages/ipykernel_launcher.py:19: UserWarning: \nThis call to matplotlib.use() has no effect because the backend has already\nbeen chosen; matplotlib.use() must be called *before* pylab, matplotlib.pyplot,\nor matplotlib.backends is imported for the first time.\n\nThe backend was *originally* set to 'module://ipykernel.pylab.backend_inline' by the following code:\n  File \"/System/Library/Frameworks/Python.framework/Versions/2.7/lib/python2.7/runpy.py\", line 174, in _run_module_as_main\n    \"__main__\", fname, loader, pkg_name)\n  File \"/System/Library/Frameworks/Python.framework/Versions/2.7/lib/python2.7/runpy.py\", line 72, in _run_code\n    exec code in run_globals\n  File \"/Users/in-emmanuel.philip/PycharmProjects/trial/venv/lib/python2.7/site-packages/ipykernel_launcher.py\", line 16, in <module>\n    app.launch_new_instance()\n  File \"/Users/in-emmanuel.philip/PycharmProjects/trial/venv/lib/python2.7/site-packages/traitlets/config/application.py\", line 664, in launch_instance\n    app.start()\n  File \"/Users/in-emmanuel.philip/PycharmProjects/trial/venv/lib/python2.7/site-packages/ipykernel/kernelapp.py\", line 499, in start\n    self.io_loop.start()\n  File \"/Users/in-emmanuel.philip/PycharmProjects/trial/venv/lib/python2.7/site-packages/tornado/ioloop.py\", line 1073, in start\n    handler_func(fd_obj, events)\n  File \"/Users/in-emmanuel.philip/PycharmProjects/trial/venv/lib/python2.7/site-packages/tornado/stack_context.py\", line 300, in null_wrapper\n    return fn(*args, **kwargs)\n  File \"/Users/in-emmanuel.philip/PycharmProjects/trial/venv/lib/python2.7/site-packages/zmq/eventloop/zmqstream.py\", line 456, in _handle_events\n    self._handle_recv()\n  File \"/Users/in-emmanuel.philip/PycharmProjects/trial/venv/lib/python2.7/site-packages/zmq/eventloop/zmqstream.py\", line 486, in _handle_recv\n    self._run_callback(callback, msg)\n  File \"/Users/in-emmanuel.philip/PycharmProjects/trial/venv/lib/python2.7/site-packages/zmq/eventloop/zmqstream.py\", line 438, in _run_callback\n    callback(*args, **kwargs)\n  File \"/Users/in-emmanuel.philip/PycharmProjects/trial/venv/lib/python2.7/site-packages/tornado/stack_context.py\", line 300, in null_wrapper\n    return fn(*args, **kwargs)\n  File \"/Users/in-emmanuel.philip/PycharmProjects/trial/venv/lib/python2.7/site-packages/ipykernel/kernelbase.py\", line 283, in dispatcher\n    return self.dispatch_shell(stream, msg)\n  File \"/Users/in-emmanuel.philip/PycharmProjects/trial/venv/lib/python2.7/site-packages/ipykernel/kernelbase.py\", line 233, in dispatch_shell\n    handler(stream, idents, msg)\n  File \"/Users/in-emmanuel.philip/PycharmProjects/trial/venv/lib/python2.7/site-packages/ipykernel/kernelbase.py\", line 399, in execute_request\n    user_expressions, allow_stdin)\n  File \"/Users/in-emmanuel.philip/PycharmProjects/trial/venv/lib/python2.7/site-packages/ipykernel/ipkernel.py\", line 208, in do_execute\n    res = shell.run_cell(code, store_history=store_history, silent=silent)\n  File \"/Users/in-emmanuel.philip/PycharmProjects/trial/venv/lib/python2.7/site-packages/ipykernel/zmqshell.py\", line 537, in run_cell\n    return super(ZMQInteractiveShell, self).run_cell(*args, **kwargs)\n  File \"/Users/in-emmanuel.philip/PycharmProjects/trial/venv/lib/python2.7/site-packages/IPython/core/interactiveshell.py\", line 2714, in run_cell\n    interactivity=interactivity, compiler=compiler, result=result)\n  File \"/Users/in-emmanuel.philip/PycharmProjects/trial/venv/lib/python2.7/site-packages/IPython/core/interactiveshell.py\", line 2824, in run_ast_nodes\n    if self.run_code(code, result):\n  File \"/Users/in-emmanuel.philip/PycharmProjects/trial/venv/lib/python2.7/site-packages/IPython/core/interactiveshell.py\", line 2878, in run_code\n    exec(code_obj, self.user_global_ns, self.user_ns)\n  File \"<ipython-input-15-9bc3829b7424>\", line 24, in <module>\n    get_ipython().magic(u'matplotlib inline')\n  File \"/Users/in-emmanuel.philip/PycharmProjects/trial/venv/lib/python2.7/site-packages/IPython/core/interactiveshell.py\", line 2160, in magic\n    return self.run_line_magic(magic_name, magic_arg_s)\n  File \"/Users/in-emmanuel.philip/PycharmProjects/trial/venv/lib/python2.7/site-packages/IPython/core/interactiveshell.py\", line 2081, in run_line_magic\n    result = fn(*args,**kwargs)\n  File \"</Users/in-emmanuel.philip/PycharmProjects/trial/venv/lib/python2.7/site-packages/decorator.pyc:decorator-gen-105>\", line 2, in matplotlib\n  File \"/Users/in-emmanuel.philip/PycharmProjects/trial/venv/lib/python2.7/site-packages/IPython/core/magic.py\", line 188, in <lambda>\n    call = lambda f, *a, **k: f(*a, **k)\n  File \"/Users/in-emmanuel.philip/PycharmProjects/trial/venv/lib/python2.7/site-packages/IPython/core/magics/pylab.py\", line 100, in matplotlib\n    gui, backend = self.shell.enable_matplotlib(args.gui)\n  File \"/Users/in-emmanuel.philip/PycharmProjects/trial/venv/lib/python2.7/site-packages/IPython/core/interactiveshell.py\", line 2966, in enable_matplotlib\n    pt.activate_matplotlib(backend)\n  File \"/Users/in-emmanuel.philip/PycharmProjects/trial/venv/lib/python2.7/site-packages/IPython/core/pylabtools.py\", line 315, in activate_matplotlib\n    matplotlib.pyplot.switch_backend(backend)\n  File \"/Users/in-emmanuel.philip/PycharmProjects/trial/venv/lib/python2.7/site-packages/matplotlib/pyplot.py\", line 233, in switch_backend\n    _backend_mod, new_figure_manager, draw_if_interactive, _show = pylab_setup()\n  File \"/Users/in-emmanuel.philip/PycharmProjects/trial/venv/lib/python2.7/site-packages/matplotlib/backends/__init__.py\", line 63, in pylab_setup\n    [backend_name], 0)\n  File \"/Users/in-emmanuel.philip/PycharmProjects/trial/venv/lib/python2.7/site-packages/ipykernel/pylab/backend_inline.py\", line 169, in <module>\n    _enable_matplotlib_integration()\n  File \"/Users/in-emmanuel.philip/PycharmProjects/trial/venv/lib/python2.7/site-packages/ipykernel/pylab/backend_inline.py\", line 159, in _enable_matplotlib_integration\n    activate_matplotlib(backend)\n  File \"/Users/in-emmanuel.philip/PycharmProjects/trial/venv/lib/python2.7/site-packages/IPython/core/pylabtools.py\", line 315, in activate_matplotlib\n    matplotlib.pyplot.switch_backend(backend)\n  File \"/Users/in-emmanuel.philip/PycharmProjects/trial/venv/lib/python2.7/site-packages/matplotlib/pyplot.py\", line 231, in switch_backend\n    matplotlib.use(newbackend, warn=False, force=True)\n  File \"/Users/in-emmanuel.philip/PycharmProjects/trial/venv/lib/python2.7/site-packages/matplotlib/__init__.py\", line 1422, in use\n    reload(sys.modules['matplotlib.backends'])\n  File \"/Users/in-emmanuel.philip/PycharmProjects/trial/venv/lib/python2.7/site-packages/matplotlib/backends/__init__.py\", line 17, in <module>\n    line for line in traceback.format_stack()\n\n\n"
     ],
     "output_type": "stream"
    }
   ],
   "source": [
    "import PIL\n",
    "import mss\n",
    "import pyautogui \n",
    "import time  \n",
    "import numpy  as np  \n",
    "import matplotlib\n",
    "from keras import Sequential\n",
    "from keras.layers import Conv2D, Flatten, Dense, MaxPooling2D\n",
    "from keras.models import load_model\n",
    "import os\n",
    "matplotlib.use('TkAgg')\n",
    "\n",
    "import matplotlib.pyplot as plt\n",
    "from IPython.display import clear_output\n",
    "%matplotlib inline\n",
    "\n",
    "pyautogui.PAUSE = 0.01\n",
    "\n",
    "SHOULD_LOG = True"
   ]
  },
  {
   "cell_type": "code",
   "execution_count": 16,
   "outputs": [],
   "source": [
    "restart_coords = (420, 370)\n",
    "    \n",
    "def restart():\n",
    "    #pyautogui.click(restart_coords)\n",
    "    pyautogui.keyDown('space')\n",
    "    pyautogui.keyUp('space')    \n",
    "\n",
    "\n",
    "def jump(should_jump):\n",
    "    if should_jump:\n",
    "        pyautogui.keyDown('space')\n",
    "        pyautogui.keyUp('space')\n",
    "        \n",
    "\n",
    "def check_val_and_jump(val):\n",
    "    if val>0.5: \n",
    "        jump(True)\n",
    "        return 1\n",
    "    else:\n",
    "        jump(False)\n",
    "        return 0"
   ],
   "metadata": {
    "collapsed": false,
    "pycharm": {
     "name": "#%%\n",
     "is_executing": false
    }
   }
  },
  {
   "cell_type": "code",
   "execution_count": 1,
   "outputs": [
    {
     "ename": "IndentationError",
     "evalue": "expected an indented block (<ipython-input-1-66b8f2abcb89>, line 14)",
     "traceback": [
      "\u001b[0;36m  File \u001b[0;32m\"<ipython-input-1-66b8f2abcb89>\"\u001b[0;36m, line \u001b[0;32m14\u001b[0m\n\u001b[0;31m    def get_state_image(index, show):\u001b[0m\n\u001b[0m      ^\u001b[0m\n\u001b[0;31mIndentationError\u001b[0m\u001b[0;31m:\u001b[0m expected an indented block\n"
     ],
     "output_type": "error"
    }
   ],
   "source": [
    "def display_image(image, title):\n",
    "    plt.figure().suptitle(title, fontsize=20)\n",
    "    plt.imshow(image)\n",
    "    plt.show()\n",
    "    \n",
    "def capture_image():\n",
    "    image = mss.mss().grab({\"top\":350, \"left\":50, \"width\":700, \"height\":200})\n",
    "    return PIL.Image.frombytes(\"RGB\", image.size, image.bgra, \"raw\", \"BGRX\")\n",
    "\n",
    "def convert_to_greyscale_image(color_image):\n",
    "    THRESHOLD_VALUE = 125\n",
    "    image = color_image.convert(\"L\")\n",
    "    orig_image = np.asarray(image)\n",
    "    image = image.resize((300, 300), PIL.Image.ANTIALIAS)\n",
    "    img_data = np.asarray(image)\n",
    "    greyscale_image = (img_data > THRESHOLD_VALUE) * 1.0\n",
    "    return greyscale_image, orig_image\n",
    "    \n",
    "\n",
    "def get_state_image(index, show):\n",
    "    \n",
    "    image = capture_image()\n",
    "    \n",
    "    greyscale_image, orig_image = convert_to_greyscale_image(image)\n",
    "    \n",
    "    if show:\n",
    "        display_image(greyscale_image, index)\n",
    "    return np.asarray(greyscale_image), orig_image\n",
    "    \n",
    "a,b = get_state_image(-1, True)\n",
    "\n"
   ],
   "metadata": {
    "collapsed": false,
    "pycharm": {
     "name": "#%%\n",
     "is_executing": false
    }
   }
  },
  {
   "cell_type": "code",
   "execution_count": 105,
   "outputs": [],
   "source": [
    "def build_model():\n",
    "    cnn_model = Sequential()\n",
    "    \n",
    "    cnn_model.add(Conv2D(9, (21, 21), strides=(7, 7), padding='valid',input_shape=(300, 300, 1), activation='relu',\n",
    "                     kernel_initializer='random_uniform'))  #20*40*4\n",
    "    cnn_model.add(Conv2D(13, (11, 11), strides=(3, 3), padding='same', activation='relu', kernel_initializer='random_uniform'))\n",
    "    cnn_model.add(Conv2D(25, (5, 5), strides=(1, 1), padding='same', activation='relu', kernel_initializer='random_uniform'))\n",
    "    cnn_model.add(MaxPooling2D(pool_size=(2, 2), strides=None, padding='valid'))\n",
    "    cnn_model.add(Conv2D(39, (3, 3), strides=(1, 1), padding='same', activation='relu', kernel_initializer='random_uniform'))\n",
    "    cnn_model.add(MaxPooling2D(pool_size=(2, 2), strides=None, padding='valid'))\n",
    "    cnn_model.add(Flatten())\n",
    "    cnn_model.add(Dense(512, activation='relu', kernel_initializer='random_uniform'))\n",
    "    cnn_model.add(Dense(32, activation='relu', kernel_initializer='random_uniform'))\n",
    "    cnn_model.add(Dense(2, activation='relu', kernel_initializer='random_uniform'))\n",
    "    cnn_model.compile(loss='mse',optimizer='adam', metrics=['accuracy'])\n",
    "    if not os.path.isfile('my_dino.h5'):     \n",
    "        cnn_model.save('my_dino.h5')\n"
   ],
   "metadata": {
    "collapsed": false,
    "pycharm": {
     "name": "#%%\n",
     "is_executing": false
    }
   }
  },
  {
   "cell_type": "code",
   "execution_count": 99,
   "outputs": [
    {
     "data": {
      "image/png": "[encoded data removed]",
      "text/plain": "<Figure size 432x288 with 1 Axes>"
     },
     "metadata": {
      "needs_background": "light"
     },
     "output_type": "display_data"
    },
    {
     "name": "stdout",
     "text": [
      "('Prediction output', 0.50006425)\n('Prediction time', 0.05360698699951172)\n"
     ],
     "output_type": "stream"
    }
   ],
   "source": [
    "model = build_model()\n",
    "\n",
    "input_area, origImage = get_state_image(-1, True)\n",
    "input_area_conv = input_area[np.newaxis, ..., np.newaxis]\n",
    "model = load_model('my_dino.h5')\n",
    "t0 = time.time()\n",
    "output = model.predict(input_area_conv)[0][0]\n",
    "print('Prediction output', output)\n",
    "t1 = time.time()\n",
    "print('Prediction time', t1-t0)\n",
    "\n",
    "# model.save('my_dino.h5')\n",
    "    \n",
    "\n"
   ],
   "metadata": {
    "collapsed": false,
    "pycharm": {
     "name": "#%%\n",
     "is_executing": false
    }
   }
  },
  {
   "cell_type": "code",
   "execution_count": 93,
   "outputs": [],
   "source": [
    "def normalize_output(output_list):\n",
    "    return [ 1 if val > 0.5 else 0 for val in output_list ]\n",
    "    \n",
    "def flip_output(val):\n",
    "    if val == 1:\n",
    "        return 0\n",
    "    else:\n",
    "        return 1\n",
    "    \n",
    "    "
   ],
   "metadata": {
    "collapsed": false,
    "pycharm": {
     "name": "#%%\n",
     "is_executing": false
    }
   }
  },
  {
   "cell_type": "code",
   "execution_count": 108,
   "outputs": [],
   "source": [
    "\n",
    "def train_data(input_data, output_data):\n",
    "    print('Training output:', np.asarray(output_data).shape)\n",
    "    print('Training output:', np.asarray(output_data).shape)\n",
    "    del input_data[-10:]\n",
    "    del output_data[-10:]\n",
    "        \n",
    "    for i in range(len(output_data)):\n",
    "        if output_data[i][0]>0.5:\n",
    "            output_data[i][0] = 1\n",
    "        else:\n",
    "            output_data[i][0] = 0\n",
    "    model.train_on_batch(np.asarray(input_data), np.asarray(output_data))\n",
    "    model.save_weights('my_dino.h5', overwrite=True)\n",
    "        "
   ],
   "metadata": {
    "collapsed": false,
    "pycharm": {
     "name": "#%%\n",
     "is_executing": false
    }
   }
  },
  {
   "cell_type": "code",
   "execution_count": null,
   "outputs": [
    {
     "name": "stdout",
     "text": [
      "(1799, 300, 300, 1)\n",
      "(1799, 300, 300, 1)\n('Loop time:', 2.5181868076324463)\n('dtctn tm:', 0.02635788917541504)\n('Prdctn output', 0, ': ', 1.0)\n('Prdctn Time:', 0.032173871994018555)\n",
      "('Loop time:', 0.22463297843933105)\n('dtctn tm:', 0.024200916290283203)\n('Prdctn output', 1, ': ', 1.0)\n('Prdctn Time:', 0.028862953186035156)\n",
      "('Loop time:', 0.23661494255065918)\n('dtctn tm:', 0.0325930118560791)\n('Prdctn output', 2, ': ', 1.0)\n('Prdctn Time:', 0.037780046463012695)\n",
      "('Loop time:', 0.2520918846130371)\n('dtctn tm:', 0.026495933532714844)\n('Prdctn output', 3, ': ', 1.0)\n('Prdctn Time:', 0.03084588050842285)\n",
      "('Loop time:', 0.22457504272460938)\n('dtctn tm:', 0.02805304527282715)\n('Prdctn output', 4, ': ', 1.0)\n('Prdctn Time:', 0.033735036849975586)\n",
      "('Loop time:', 0.22607898712158203)\n('dtctn tm:', 0.032614946365356445)\n('Prdctn output', 5, ': ', 1.0)\n('Prdctn Time:', 0.036711931228637695)\n",
      "('Loop time:', 0.23015999794006348)\n('dtctn tm:', 0.0455470085144043)\n",
      "(1805, 300, 300, 1)\n",
      "(1805, 300, 300, 1)\n('Loop time:', 2.5414960384368896)\n('dtctn tm:', 0.02766108512878418)\n('Prdctn output', 0, ': ', 1.0)\n('Prdctn Time:', 0.033236026763916016)\n",
      "('Loop time:', 0.2355339527130127)\n('dtctn tm:', 0.03483009338378906)\n('Prdctn output', 1, ': ', 1.0)\n('Prdctn Time:', 0.039198875427246094)\n",
      "('Loop time:', 0.23339104652404785)\n('dtctn tm:', 0.04779195785522461)\n('Prdctn output', 2, ': ', 1.0)\n('Prdctn Time:', 0.06062507629394531)\n",
      "('Loop time:', 0.26163601875305176)\n('dtctn tm:', 0.025928974151611328)\n('Prdctn output', 3, ': ', 1.0)\n('Prdctn Time:', 0.031282901763916016)\n",
      "('Loop time:', 0.22608089447021484)\n('dtctn tm:', 0.0293428897857666)\n('Prdctn output', 4, ': ', 1.0)\n('Prdctn Time:', 0.04378199577331543)\n",
      "('Loop time:', 0.23056888580322266)\n('dtctn tm:', 0.034893035888671875)\n('Prdctn output', 5, ': ', 1.0)\n('Prdctn Time:', 0.03909182548522949)\n",
      "('Loop time:', 0.23443984985351562)\n('dtctn tm:', 0.024168014526367188)\n"
     ],
     "output_type": "stream"
    }
   ],
   "source": [
    "itr = 0\n",
    "model = load_model('my_dino.h5')\n",
    "time.sleep(5)\n",
    "\n",
    "prev_area = None\n",
    "restart()\n",
    "train_x = []\n",
    "train_y = []\n",
    "num = 0\n",
    "while True:\n",
    "    time1 = time.time()\n",
    "    input_area, origImage = get_state_image(num, False)\n",
    "    input_area_conv = input_area[np.newaxis, ..., np.newaxis]\n",
    "    t2 = time.time()\n",
    "    print('dtctn tm:', t2 - time1)\n",
    "    if prev_area is not None and num>5 and np.array_equal(origImage, prev_area):\n",
    "        itr = itr + 1\n",
    "        if itr%5 == 0:\n",
    "            clear_output()\n",
    "        print(np.asarray(train_x).shape)\n",
    "        print(np.asarray(train_x).shape)\n",
    "        if num>45:\n",
    "            train_data(train_x, train_y)\n",
    "        \n",
    "            # print('length of training set', len(train_x))\n",
    "            # print('train_x_shape before training', np.asarray(train_x).shape)\n",
    "            # print('train_y_shape before t raining', np.asarray(train_y).shape)\n",
    "        t3 = time.time()\n",
    "        prev_area = None\n",
    "        # print('Training time', t3-t2)\n",
    "        num = 0\n",
    "        restart()\n",
    "        if itr == 100:\n",
    "            break\n",
    "    else:\n",
    "        t3 = time.time()\n",
    "        output = model.predict(input_area_conv)[0][0]\n",
    "        print('Prdctn output', num, ': ', output)\n",
    "        t4 = time.time()\n",
    "        print('Prdctn Time:' , t4 - time1)\n",
    "        t = 0.15-(time.time()-t3)\n",
    "        # print(t)\n",
    "        time.sleep(t)\n",
    "        output = np.int32(check_val_and_jump(output))\n",
    "            \n",
    "        num = num + 1\n",
    "        train_x.append(input_area[..., np.newaxis])\n",
    "        # print('train_x_shape', np.asarray(train_x).shape)\n",
    "        # print('Prediction Output', output)\n",
    "        train_y.append(output[..., np.newaxis])\n",
    "        # print('train_y_shape', np.asarray(train_y).shape)\n",
    "        \n",
    "    prev_area = origImage\n",
    "    time2 = time.time()\n",
    "    print('Loop time:', time2 - time1)\n",
    "\n"
   ],
   "metadata": {
    "collapsed": false,
    "pycharm": {
     "name": "#%%\n",
     "is_executing": true
    }
   }
  }
 ],
 "metadata": {
  "kernelspec": {
   "display_name": "Python 2",
   "language": "python",
   "name": "python2"
  },
  "language_info": {
   "codemirror_mode": {
    "name": "ipython",
    "version": 2
   },
   "file_extension": ".py",
   "mimetype": "text/x-python",
   "name": "python",
   "nbconvert_exporter": "python",
   "pygments_lexer": "ipython2",
   "version": "2.7.6"
  },
  "pycharm": {
   "stem_cell": {
    "cell_type": "raw",
    "source": [],
    "metadata": {
     "collapsed": false
    }
   }
  }
 },
 "nbformat": 4,
 "nbformat_minor": 0
}